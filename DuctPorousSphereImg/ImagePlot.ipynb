{
 "cells": [
  {
   "cell_type": "code",
   "execution_count": 4,
   "metadata": {},
   "outputs": [],
   "source": [
    "import numpy as np\n",
    "import matplotlib.pyplot as plt\n",
    "from matplotlib import cm\n",
    "\n",
    "import porespy as ps\n",
    "from porespy.tools import ps_ball"
   ]
  },
  {
   "cell_type": "markdown",
   "metadata": {},
   "source": [
    "\n",
    "Format: ASCII\n",
    "\n",
    "Voxel labels: 0=outside the duct; 1=inside the duct (but outside the sphere); 2=sphere\n",
    "\n",
    "Voxel dimensions: 100x100x200\n",
    "\n",
    "Duct location (x,y,z): [20,80],[20,80],[20,180]\n",
    "\n",
    "Duct location voxels: 21-80,21-80,21-180\n",
    "\n",
    "Sphere center (x,y,z): [50,50,100]\n",
    "\n",
    "Sphere radius: R=15"
   ]
  },
  {
   "cell_type": "code",
   "execution_count": 17,
   "metadata": {},
   "outputs": [],
   "source": [
    "Img=np.zeros([100,100,200],dtype=np.uint8)\n",
    "Img[20:80,20:80,20:180]=1\n",
    "\n",
    "sphere = ps_ball(radius=15)\n",
    "sphere=sphere.astype(np.uint8)\n",
    "sphere[sphere>0]=2\n",
    "sphere[sphere==0]=1\n",
    "\n",
    "Img_final = ps.generators.insert_shape(Img, element=sphere, center=[50, 50, 100])"
   ]
  },
  {
   "cell_type": "code",
   "execution_count": 18,
   "metadata": {},
   "outputs": [
    {
     "data": {
      "image/png": "[encoded data removed]",
      "text/plain": [
       "<Figure size 720x720 with 2 Axes>"
      ]
     },
     "metadata": {
      "needs_background": "light"
     },
     "output_type": "display_data"
    }
   ],
   "source": [
    "plt.rcParams['figure.figsize'] = [10, 10]\n",
    "plt.imshow(Img_final[:,:,100])\n",
    "plt.colorbar()\n",
    "plt.show()"
   ]
  },
  {
   "cell_type": "code",
   "execution_count": 22,
   "metadata": {},
   "outputs": [],
   "source": [
    "with open('DuctSphere100_100_200.txt','w') as f:\n",
    "    for layer in range(Img_final.shape[2]):\n",
    "        for col in range(Img_final.shape[1]):\n",
    "            for row in range(Img_final.shape[0]):\n",
    "                f.write(\"%d \" % Img_final[row,col,layer])\n",
    "            f.write(\"\\n\")\n",
    "        #f.write(\"\\n\")"
   ]
  },
  {
   "cell_type": "code",
   "execution_count": 12,
   "metadata": {},
   "outputs": [
    {
     "data": {
      "text/plain": [
       "(100, 100)"
      ]
     },
     "execution_count": 12,
     "metadata": {},
     "output_type": "execute_result"
    }
   ],
   "source": [
    "Img_final[:,:,0].shape"
   ]
  },
  {
   "cell_type": "code",
   "execution_count": 11,
   "metadata": {},
   "outputs": [
    {
     "data": {
      "text/plain": [
       "(100, 100, 200)"
      ]
     },
     "execution_count": 11,
     "metadata": {},
     "output_type": "execute_result"
    }
   ],
   "source": [
    "Img_final.shape"
   ]
  },
  {
   "cell_type": "code",
   "execution_count": 54,
   "metadata": {},
   "outputs": [],
   "source": [
    "from PIL import Image\n",
    "for i in range(Img.shape[2]):\n",
    "    im = Image.fromarray(np.uint8(cm.gist_earth(Img_final[:,:,i])*255))\n",
    "    im.save('.\\img\\img'+str(i)+'.tif')"
   ]
  },
  {
   "cell_type": "code",
   "execution_count": 48,
   "metadata": {},
   "outputs": [
    {
     "data": {
      "text/plain": [
       "(100, 100, 200)"
      ]
     },
     "execution_count": 48,
     "metadata": {},
     "output_type": "execute_result"
    }
   ],
   "source": [
    "Img.shape"
   ]
  }
 ],
 "metadata": {
  "kernelspec": {
   "display_name": "Python 3",
   "language": "python",
   "name": "python3"
  },
  "language_info": {
   "codemirror_mode": {
    "name": "ipython",
    "version": 3
   },
   "file_extension": ".py",
   "mimetype": "text/x-python",
   "name": "python",
   "nbconvert_exporter": "python",
   "pygments_lexer": "ipython3",
   "version": "3.7.4"
  }
 },
 "nbformat": 4,
 "nbformat_minor": 2
}
